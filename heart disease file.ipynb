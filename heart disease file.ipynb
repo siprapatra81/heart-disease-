{
 "cells": [
  {
   "cell_type": "code",
   "execution_count": 1,
   "id": "c87e20b8",
   "metadata": {},
   "outputs": [],
   "source": [
    "import pandas as pd\n",
    "import numpy as np\n",
    "from sklearn.model_selection import train_test_split\n",
    "from sklearn.preprocessing import StandardScaler, LabelEncoder\n",
    "from sklearn.ensemble import RandomForestClassifier\n",
    "from sklearn.metrics import accuracy_score, confusion_matrix, classification_report\n"
   ]
  },
  {
   "cell_type": "code",
   "execution_count": 2,
   "id": "d8c556ea",
   "metadata": {},
   "outputs": [],
   "source": [
    "df = pd.read_csv(\"D:\\heart_disease\\Heart Disease\\dataset.csv\")"
   ]
  },
  {
   "cell_type": "code",
   "execution_count": 3,
   "id": "36e39e62",
   "metadata": {},
   "outputs": [
    {
     "name": "stdout",
     "output_type": "stream",
     "text": [
      "   age  sex  chest pain type  resting bp s  cholesterol  fasting blood sugar  \\\n",
      "0   40    1                2           140          289                    0   \n",
      "1   49    0                3           160          180                    0   \n",
      "2   37    1                2           130          283                    0   \n",
      "3   48    0                4           138          214                    0   \n",
      "4   54    1                3           150          195                    0   \n",
      "\n",
      "   resting ecg  max heart rate  exercise angina  oldpeak  ST slope  target  \n",
      "0            0             172                0      0.0         1       0  \n",
      "1            0             156                0      1.0         2       1  \n",
      "2            1              98                0      0.0         1       0  \n",
      "3            0             108                1      1.5         2       1  \n",
      "4            0             122                0      0.0         1       0  \n"
     ]
    }
   ],
   "source": [
    "print(df.head())"
   ]
  },
  {
   "cell_type": "code",
   "execution_count": 4,
   "id": "475f7ea4",
   "metadata": {},
   "outputs": [
    {
     "name": "stdout",
     "output_type": "stream",
     "text": [
      "      age  sex  chest pain type  resting bp s  cholesterol  \\\n",
      "1185   45    1                1           110          264   \n",
      "1186   68    1                4           144          193   \n",
      "1187   57    1                4           130          131   \n",
      "1188   57    0                2           130          236   \n",
      "1189   38    1                3           138          175   \n",
      "\n",
      "      fasting blood sugar  resting ecg  max heart rate  exercise angina  \\\n",
      "1185                    0            0             132                0   \n",
      "1186                    1            0             141                0   \n",
      "1187                    0            0             115                1   \n",
      "1188                    0            2             174                0   \n",
      "1189                    0            0             173                0   \n",
      "\n",
      "      oldpeak  ST slope  target  \n",
      "1185      1.2         2       1  \n",
      "1186      3.4         2       1  \n",
      "1187      1.2         2       1  \n",
      "1188      0.0         2       1  \n",
      "1189      0.0         1       0  \n"
     ]
    }
   ],
   "source": [
    "print(df.tail())"
   ]
  },
  {
   "cell_type": "code",
   "execution_count": 5,
   "id": "e30947b9",
   "metadata": {},
   "outputs": [
    {
     "name": "stdout",
     "output_type": "stream",
     "text": [
      "<class 'pandas.core.frame.DataFrame'>\n",
      "RangeIndex: 1190 entries, 0 to 1189\n",
      "Data columns (total 12 columns):\n",
      " #   Column               Non-Null Count  Dtype  \n",
      "---  ------               --------------  -----  \n",
      " 0   age                  1190 non-null   int64  \n",
      " 1   sex                  1190 non-null   int64  \n",
      " 2   chest pain type      1190 non-null   int64  \n",
      " 3   resting bp s         1190 non-null   int64  \n",
      " 4   cholesterol          1190 non-null   int64  \n",
      " 5   fasting blood sugar  1190 non-null   int64  \n",
      " 6   resting ecg          1190 non-null   int64  \n",
      " 7   max heart rate       1190 non-null   int64  \n",
      " 8   exercise angina      1190 non-null   int64  \n",
      " 9   oldpeak              1190 non-null   float64\n",
      " 10  ST slope             1190 non-null   int64  \n",
      " 11  target               1190 non-null   int64  \n",
      "dtypes: float64(1), int64(11)\n",
      "memory usage: 111.7 KB\n",
      "None\n"
     ]
    }
   ],
   "source": [
    "print(df.info())"
   ]
  },
  {
   "cell_type": "code",
   "execution_count": 6,
   "id": "046a4fda",
   "metadata": {},
   "outputs": [
    {
     "name": "stdout",
     "output_type": "stream",
     "text": [
      "               age          sex  chest pain type  resting bp s  cholesterol  \\\n",
      "count  1190.000000  1190.000000      1190.000000   1190.000000  1190.000000   \n",
      "mean     53.720168     0.763866         3.232773    132.153782   210.363866   \n",
      "std       9.358203     0.424884         0.935480     18.368823   101.420489   \n",
      "min      28.000000     0.000000         1.000000      0.000000     0.000000   \n",
      "25%      47.000000     1.000000         3.000000    120.000000   188.000000   \n",
      "50%      54.000000     1.000000         4.000000    130.000000   229.000000   \n",
      "75%      60.000000     1.000000         4.000000    140.000000   269.750000   \n",
      "max      77.000000     1.000000         4.000000    200.000000   603.000000   \n",
      "\n",
      "       fasting blood sugar  resting ecg  max heart rate  exercise angina  \\\n",
      "count          1190.000000  1190.000000     1190.000000      1190.000000   \n",
      "mean              0.213445     0.698319      139.732773         0.387395   \n",
      "std               0.409912     0.870359       25.517636         0.487360   \n",
      "min               0.000000     0.000000       60.000000         0.000000   \n",
      "25%               0.000000     0.000000      121.000000         0.000000   \n",
      "50%               0.000000     0.000000      140.500000         0.000000   \n",
      "75%               0.000000     2.000000      160.000000         1.000000   \n",
      "max               1.000000     2.000000      202.000000         1.000000   \n",
      "\n",
      "           oldpeak     ST slope       target  \n",
      "count  1190.000000  1190.000000  1190.000000  \n",
      "mean      0.922773     1.624370     0.528571  \n",
      "std       1.086337     0.610459     0.499393  \n",
      "min      -2.600000     0.000000     0.000000  \n",
      "25%       0.000000     1.000000     0.000000  \n",
      "50%       0.600000     2.000000     1.000000  \n",
      "75%       1.600000     2.000000     1.000000  \n",
      "max       6.200000     3.000000     1.000000  \n"
     ]
    }
   ],
   "source": [
    "print(df.describe())"
   ]
  },
  {
   "cell_type": "code",
   "execution_count": 7,
   "id": "428aa841",
   "metadata": {},
   "outputs": [
    {
     "name": "stdout",
     "output_type": "stream",
     "text": [
      "(1190, 12)\n"
     ]
    }
   ],
   "source": [
    "print(df.shape)"
   ]
  },
  {
   "cell_type": "code",
   "execution_count": 8,
   "id": "e40818d9",
   "metadata": {},
   "outputs": [
    {
     "name": "stdout",
     "output_type": "stream",
     "text": [
      "Index(['age', 'sex', 'chest pain type', 'resting bp s', 'cholesterol',\n",
      "       'fasting blood sugar', 'resting ecg', 'max heart rate',\n",
      "       'exercise angina', 'oldpeak', 'ST slope', 'target'],\n",
      "      dtype='object')\n"
     ]
    }
   ],
   "source": [
    "file_path = \"D:\\heart_disease\\Heart Disease\\dataset.csv\"\n",
    "data = pd.read_csv(file_path)\n",
    "\n",
    "# Display the columns of the dataset to find the target column name\n",
    "print(data.columns)"
   ]
  },
  {
   "cell_type": "code",
   "execution_count": 9,
   "id": "eadd48bd",
   "metadata": {},
   "outputs": [
    {
     "data": {
      "text/plain": [
       "age                    0\n",
       "sex                    0\n",
       "chest pain type        0\n",
       "resting bp s           0\n",
       "cholesterol            0\n",
       "fasting blood sugar    0\n",
       "resting ecg            0\n",
       "max heart rate         0\n",
       "exercise angina        0\n",
       "oldpeak                0\n",
       "ST slope               0\n",
       "target                 0\n",
       "dtype: int64"
      ]
     },
     "execution_count": 9,
     "metadata": {},
     "output_type": "execute_result"
    }
   ],
   "source": [
    "df.isna().sum()"
   ]
  },
  {
   "cell_type": "code",
   "execution_count": 10,
   "id": "85e884f5",
   "metadata": {},
   "outputs": [
    {
     "data": {
      "text/plain": [
       "272"
      ]
     },
     "execution_count": 10,
     "metadata": {},
     "output_type": "execute_result"
    }
   ],
   "source": [
    "df.duplicated().sum()"
   ]
  },
  {
   "cell_type": "code",
   "execution_count": 11,
   "id": "9afb3735",
   "metadata": {},
   "outputs": [],
   "source": [
    "df = df.drop_duplicates()"
   ]
  },
  {
   "cell_type": "code",
   "execution_count": 12,
   "id": "f3edfea8",
   "metadata": {},
   "outputs": [
    {
     "name": "stdout",
     "output_type": "stream",
     "text": [
      "(918, 12)\n"
     ]
    }
   ],
   "source": [
    "print(df.shape)"
   ]
  },
  {
   "cell_type": "code",
   "execution_count": 13,
   "id": "49b20d2a",
   "metadata": {},
   "outputs": [],
   "source": [
    "for column in data.columns:\n",
    "    if pd.api.types.is_numeric_dtype(data[column]):\n",
    "        data[column] = data[column].fillna(data[column].median())\n",
    "    else:\n",
    "        data[column] = data[column].fillna(data[column].mode()[0])"
   ]
  },
  {
   "cell_type": "code",
   "execution_count": 14,
   "id": "2eeb9364",
   "metadata": {},
   "outputs": [],
   "source": [
    "from sklearn.preprocessing import LabelEncoder\n",
    "\n",
    "label_encoders = {}\n",
    "for column in data.columns:\n",
    "    if data[column].dtype == 'object':\n",
    "        le = LabelEncoder()\n",
    "        data[column] = le.fit_transform(data[column])\n",
    "        label_encoders[column] = le"
   ]
  },
  {
   "cell_type": "code",
   "execution_count": 15,
   "id": "3b125b65",
   "metadata": {},
   "outputs": [
    {
     "name": "stdout",
     "output_type": "stream",
     "text": [
      "        age       sex  chest pain type  resting bp s  cholesterol  \\\n",
      "0 -1.466728  0.555995        -1.318351      0.427328     0.775674   \n",
      "1 -0.504600 -1.798576        -0.248932      1.516587    -0.299512   \n",
      "2 -1.787437  0.555995        -1.318351     -0.117301     0.716489   \n",
      "3 -0.611503 -1.798576         0.820487      0.318402     0.035867   \n",
      "4  0.029915  0.555995        -0.248932      0.971958    -0.151550   \n",
      "\n",
      "   fasting blood sugar  resting ecg  max heart rate  exercise angina  \\\n",
      "0            -0.520929    -0.802672        1.265039        -0.795219   \n",
      "1            -0.520929    -0.802672        0.637758        -0.795219   \n",
      "2            -0.520929     0.346762       -1.636136        -0.795219   \n",
      "3            -0.520929    -0.802672       -1.244085         1.257515   \n",
      "4            -0.520929    -0.802672       -0.695214        -0.795219   \n",
      "\n",
      "    oldpeak  ST slope    target  \n",
      "0 -0.849792 -1.023217 -1.058873  \n",
      "1  0.071119  0.615583  0.944400  \n",
      "2 -0.849792 -1.023217 -1.058873  \n",
      "3  0.531575  0.615583  0.944400  \n",
      "4 -0.849792 -1.023217 -1.058873  \n"
     ]
    }
   ],
   "source": [
    "from sklearn.preprocessing import StandardScaler\n",
    "\n",
    "scaler = StandardScaler()\n",
    "numerical_columns = data.select_dtypes(include=[np.number]).columns\n",
    "data[numerical_columns] = scaler.fit_transform(data[numerical_columns])\n",
    "\n",
    "# Display the first few rows of the preprocessed dataset\n",
    "print(data.head())"
   ]
  },
  {
   "cell_type": "code",
   "execution_count": 17,
   "id": "da4e2ee9",
   "metadata": {},
   "outputs": [],
   "source": [
    "target_column = 'target'  # Updated to match the actual column name\n",
    "if target_column not in data.columns:\n",
    "    raise ValueError(f\"The specified target column '{target_column}' is not found in the dataset. Please update the target column name.\")\n",
    "\n",
    "X = data.drop(target_column, axis=1)\n",
    "y_continuous = data[target_column]\n"
   ]
  },
  {
   "cell_type": "code",
   "execution_count": 18,
   "id": "1c02384c",
   "metadata": {},
   "outputs": [],
   "source": [
    "labels = ['low', 'high']\n",
    "y_categorical = pd.cut(y_continuous, bins=[-0.5, 0.5, 1.5], labels=labels)\n"
   ]
  },
  {
   "cell_type": "code",
   "execution_count": 27,
   "id": "e7829fb8",
   "metadata": {},
   "outputs": [
    {
     "data": {
      "text/plain": [
       "RandomForestClassifier(random_state=42)"
      ]
     },
     "execution_count": 27,
     "metadata": {},
     "output_type": "execute_result"
    }
   ],
   "source": [
    "from sklearn.ensemble import RandomForestClassifier\n",
    "model = RandomForestClassifier(random_state=42)\n",
    "model.fit(X_train, y_train)"
   ]
  },
  {
   "cell_type": "code",
   "execution_count": 28,
   "id": "b1c653c9",
   "metadata": {},
   "outputs": [],
   "source": [
    "y_pred = model.predict(X_test)"
   ]
  },
  {
   "cell_type": "code",
   "execution_count": 29,
   "id": "fd92dbfa",
   "metadata": {},
   "outputs": [
    {
     "name": "stdout",
     "output_type": "stream",
     "text": [
      "Accuracy: 0.95\n",
      "\n",
      "Classification Report:\n",
      "              precision    recall  f1-score   support\n",
      "\n",
      "         low       0.95      0.93      0.94       107\n",
      "      medium       0.95      0.96      0.95       131\n",
      "\n",
      "    accuracy                           0.95       238\n",
      "   macro avg       0.95      0.95      0.95       238\n",
      "weighted avg       0.95      0.95      0.95       238\n",
      "\n",
      "\n",
      "Confusion Matrix:\n",
      "[[100   7]\n",
      " [  5 126]]\n"
     ]
    },
    {
     "data": {
      "image/png": "[encoded data removed]",
      "text/plain": [
       "<Figure size 600x500 with 2 Axes>"
      ]
     },
     "metadata": {},
     "output_type": "display_data"
    },
    {
     "name": "stdout",
     "output_type": "stream",
     "text": [
      "\n",
      "Preprocessing, training, and prediction complete. Data, predictions, and confusion matrix have been saved.\n"
     ]
    }
   ],
   "source": [
    "from sklearn.metrics import accuracy_score, classification_report, confusion_matrix\n",
    "import pandas as pd\n",
    "import seaborn as sns\n",
    "import matplotlib.pyplot as plt\n",
    "\n",
    "# Evaluate the model\n",
    "accuracy = accuracy_score(y_test, y_pred)\n",
    "print(f\"Accuracy: {accuracy:.2f}\")\n",
    "\n",
    "print(\"\\nClassification Report:\")\n",
    "print(classification_report(y_test, y_pred))\n",
    "\n",
    "#  Confusion Matrix\n",
    "cm = confusion_matrix(y_test, y_pred)\n",
    "print(\"\\nConfusion Matrix:\")\n",
    "print(cm)\n",
    "\n",
    "# Optional: visualize confusion matrix\n",
    "plt.figure(figsize=(6, 5))\n",
    "sns.heatmap(cm, annot=True, fmt='d', cmap='Blues', xticklabels=np.unique(y_test), yticklabels=np.unique(y_test))\n",
    "plt.xlabel('Predicted')\n",
    "plt.ylabel('Actual')\n",
    "plt.title('Confusion Matrix')\n",
    "plt.tight_layout()\n",
    "plt.show()\n",
    "\n",
    "# Save the preprocessed data and predictions to disk (optional)\n",
    "X_train.to_csv('X_train.csv', index=False)\n",
    "X_test.to_csv('X_test.csv', index=False)\n",
    "y_train.to_csv('y_train.csv', index=False)\n",
    "y_test.to_csv('y_test.csv', index=False)\n",
    "pd.DataFrame(y_pred, columns=['predictions']).to_csv('y_pred.csv', index=False)\n",
    "\n",
    "print(\"\\nPreprocessing, training, and prediction complete. Data, predictions, and confusion matrix have been saved.\")"
   ]
  },
  {
   "cell_type": "code",
   "execution_count": 30,
   "id": "02762b53",
   "metadata": {},
   "outputs": [
    {
     "data": {
      "text/plain": [
       "SVC(random_state=42)"
      ]
     },
     "execution_count": 30,
     "metadata": {},
     "output_type": "execute_result"
    }
   ],
   "source": [
    "from sklearn.svm import SVC\n",
    "\n",
    "model = SVC(kernel='rbf', C=1.0, gamma='scale', random_state=42)\n",
    "model.fit(X_train, y_train)\n"
   ]
  },
  {
   "cell_type": "code",
   "execution_count": 31,
   "id": "1a21e7a2",
   "metadata": {},
   "outputs": [],
   "source": [
    "y_pred = model.predict(X_test)"
   ]
  },
  {
   "cell_type": "code",
   "execution_count": 32,
   "id": "4faf6497",
   "metadata": {},
   "outputs": [
    {
     "name": "stdout",
     "output_type": "stream",
     "text": [
      "Accuracy: 0.89\n",
      "\n",
      "Classification Report:\n",
      "              precision    recall  f1-score   support\n",
      "\n",
      "         low       0.93      0.82      0.87       107\n",
      "      medium       0.87      0.95      0.91       131\n",
      "\n",
      "    accuracy                           0.89       238\n",
      "   macro avg       0.90      0.88      0.89       238\n",
      "weighted avg       0.89      0.89      0.89       238\n",
      "\n",
      "\n",
      "Confusion Matrix:\n",
      "[[ 88  19]\n",
      " [  7 124]]\n"
     ]
    },
    {
     "data": {
      "image/png": "[encoded data removed]",
      "text/plain": [
       "<Figure size 600x500 with 2 Axes>"
      ]
     },
     "metadata": {},
     "output_type": "display_data"
    },
    {
     "name": "stdout",
     "output_type": "stream",
     "text": [
      "\n",
      "✅ Preprocessing, training, and prediction complete.\n",
      "Data, predictions, and confusion matrix have been saved.\n"
     ]
    }
   ],
   "source": [
    "from sklearn.svm import SVC\n",
    "from sklearn.metrics import accuracy_score, classification_report, confusion_matrix\n",
    "import pandas as pd\n",
    "import seaborn as sns\n",
    "import matplotlib.pyplot as plt\n",
    "import numpy as np\n",
    "\n",
    "# Train the SVM model\n",
    "svm_model = SVC(kernel='rbf', C=1.0, gamma='scale', random_state=42)\n",
    "svm_model.fit(X_train, y_train)\n",
    "\n",
    "# Predict\n",
    "y_pred = svm_model.predict(X_test)\n",
    "\n",
    "# Evaluate the model\n",
    "accuracy = accuracy_score(y_test, y_pred)\n",
    "print(f\"Accuracy: {accuracy:.2f}\")\n",
    "\n",
    "print(\"\\nClassification Report:\")\n",
    "print(classification_report(y_test, y_pred))\n",
    "\n",
    "# 🔷 Confusion Matrix\n",
    "cm = confusion_matrix(y_test, y_pred)\n",
    "print(\"\\nConfusion Matrix:\")\n",
    "print(cm)\n",
    "\n",
    "# Optional: visualize confusion matrix\n",
    "plt.figure(figsize=(6, 5))\n",
    "sns.heatmap(\n",
    "    cm,\n",
    "    annot=True,\n",
    "    fmt='d',\n",
    "    cmap='Blues',\n",
    "    xticklabels=np.unique(y_test),\n",
    "    yticklabels=np.unique(y_test)\n",
    ")\n",
    "plt.xlabel('Predicted')\n",
    "plt.ylabel('Actual')\n",
    "plt.title('Confusion Matrix')\n",
    "plt.tight_layout()\n",
    "plt.show()\n",
    "\n",
    "# Save the preprocessed data and predictions to disk (optional)\n",
    "X_train.to_csv('X_train.csv', index=False)\n",
    "X_test.to_csv('X_test.csv', index=False)\n",
    "y_train.to_csv('y_train.csv', index=False)\n",
    "y_test.to_csv('y_test.csv', index=False)\n",
    "pd.DataFrame(y_pred, columns=['predictions']).to_csv('y_pred.csv', index=False)\n",
    "\n",
    "print(\"\\n✅ Preprocessing, training, and prediction complete.\")\n",
    "print(\"Data, predictions, and confusion matrix have been saved.\")\n"
   ]
  },
  {
   "cell_type": "code",
   "execution_count": 33,
   "id": "ef6c18ed",
   "metadata": {},
   "outputs": [
    {
     "data": {
      "image/png": "[encoded data removed]",
      "text/plain": [
       "<Figure size 600x500 with 1 Axes>"
      ]
     },
     "metadata": {},
     "output_type": "display_data"
    }
   ],
   "source": [
    "import matplotlib.pyplot as plt\n",
    "import seaborn as sns\n",
    "import pandas as pd\n",
    "\n",
    "# example: replace these with your actual scores\n",
    "rf_accuracy = 0.97  # put your RF accuracy here\n",
    "svm_accuracy = 0.95  # put your SVM accuracy here\n",
    "\n",
    "# create a dataframe\n",
    "df = pd.DataFrame({\n",
    "    'Model': ['Random Forest', 'SVM'],\n",
    "    'Accuracy': [rf_accuracy, svm_accuracy]\n",
    "})\n",
    "\n",
    "# plot\n",
    "plt.figure(figsize=(6, 5))\n",
    "sns.barplot(data=df, x='Model', y='Accuracy', palette='viridis')\n",
    "plt.ylim(0, 1)\n",
    "plt.title(\"Model Accuracy Comparison\")\n",
    "plt.ylabel(\"Accuracy\")\n",
    "plt.xlabel(\"Model\")\n",
    "plt.show()\n"
   ]
  },
  {
   "cell_type": "code",
   "execution_count": null,
   "id": "ccd549d1",
   "metadata": {},
   "outputs": [],
   "source": []
  }
 ],
 "metadata": {
  "kernelspec": {
   "display_name": "Python 3 (ipykernel)",
   "language": "python",
   "name": "python3"
  },
  "language_info": {
   "codemirror_mode": {
    "name": "ipython",
    "version": 3
   },
   "file_extension": ".py",
   "mimetype": "text/x-python",
   "name": "python",
   "nbconvert_exporter": "python",
   "pygments_lexer": "ipython3",
   "version": "3.9.13"
  }
 },
 "nbformat": 4,
 "nbformat_minor": 5
}
